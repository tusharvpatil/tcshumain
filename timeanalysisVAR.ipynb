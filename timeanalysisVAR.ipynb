{
  "nbformat": 4,
  "nbformat_minor": 0,
  "metadata": {
    "colab": {
      "name": "Copy of Untitled2.ipynb",
      "version": "0.3.2",
      "provenance": [],
      "collapsed_sections": []
    },
    "kernelspec": {
      "name": "python3",
      "display_name": "Python 3"
    }
  },
  "cells": [
    {
      "cell_type": "code",
      "metadata": {
        "id": "zYXkym01_MxQ",
        "colab_type": "code",
        "colab": {}
      },
      "source": [
        ""
      ],
      "execution_count": 0,
      "outputs": []
    },
    {
      "cell_type": "code",
      "metadata": {
        "id": "1bEStQWG_qOG",
        "colab_type": "code",
        "outputId": "4b89c0ab-1c00-4c7d-d822-aaee9cc5f268",
        "colab": {
          "base_uri": "https://localhost:8080/",
          "height": 34
        }
      },
      "source": [
        "from google.colab import drive\n",
        "drive.mount('/content/drive')"
      ],
      "execution_count": 1,
      "outputs": [
        {
          "output_type": "stream",
          "text": [
            "Drive already mounted at /content/drive; to attempt to forcibly remount, call drive.mount(\"/content/drive\", force_remount=True).\n"
          ],
          "name": "stdout"
        }
      ]
    },
    {
      "cell_type": "code",
      "metadata": {
        "id": "L-obrja__jD4",
        "colab_type": "code",
        "colab": {}
      },
      "source": [
        "import pandas as pd"
      ],
      "execution_count": 0,
      "outputs": []
    },
    {
      "cell_type": "code",
      "metadata": {
        "id": "xa1l0EWBAXd5",
        "colab_type": "code",
        "colab": {}
      },
      "source": [
        "df = pd.read_csv(\"/content/drive/My Drive/AI/Power-Networks-LCL.csv\")"
      ],
      "execution_count": 0,
      "outputs": []
    },
    {
      "cell_type": "code",
      "metadata": {
        "id": "eLBa4rAMAXgX",
        "colab_type": "code",
        "colab": {}
      },
      "source": [
        "df[\"DateTime\"] = pd.to_datetime(df[\"DateTime\"])"
      ],
      "execution_count": 0,
      "outputs": []
    },
    {
      "cell_type": "code",
      "metadata": {
        "id": "Vc1tffvyAXjk",
        "colab_type": "code",
        "outputId": "ff06547e-1256-4899-c935-a9e38933c188",
        "colab": {
          "base_uri": "https://localhost:8080/",
          "height": 206
        }
      },
      "source": [
        "df.head()"
      ],
      "execution_count": 5,
      "outputs": [
        {
          "output_type": "execute_result",
          "data": {
            "text/html": [
              "<div>\n",
              "<style scoped>\n",
              "    .dataframe tbody tr th:only-of-type {\n",
              "        vertical-align: middle;\n",
              "    }\n",
              "\n",
              "    .dataframe tbody tr th {\n",
              "        vertical-align: top;\n",
              "    }\n",
              "\n",
              "    .dataframe thead th {\n",
              "        text-align: right;\n",
              "    }\n",
              "</style>\n",
              "<table border=\"1\" class=\"dataframe\">\n",
              "  <thead>\n",
              "    <tr style=\"text-align: right;\">\n",
              "      <th></th>\n",
              "      <th>LCLid</th>\n",
              "      <th>stdorToU</th>\n",
              "      <th>DateTime</th>\n",
              "      <th>KWh</th>\n",
              "      <th>Acorn</th>\n",
              "      <th>Acorn_grouped</th>\n",
              "    </tr>\n",
              "  </thead>\n",
              "  <tbody>\n",
              "    <tr>\n",
              "      <th>0</th>\n",
              "      <td>MAC000002</td>\n",
              "      <td>Std</td>\n",
              "      <td>2012-10-12 00:30:00</td>\n",
              "      <td>0.0</td>\n",
              "      <td>ACORN-A</td>\n",
              "      <td>Affluent</td>\n",
              "    </tr>\n",
              "    <tr>\n",
              "      <th>1</th>\n",
              "      <td>MAC000002</td>\n",
              "      <td>Std</td>\n",
              "      <td>2012-10-12 01:00:00</td>\n",
              "      <td>0.0</td>\n",
              "      <td>ACORN-A</td>\n",
              "      <td>Affluent</td>\n",
              "    </tr>\n",
              "    <tr>\n",
              "      <th>2</th>\n",
              "      <td>MAC000002</td>\n",
              "      <td>Std</td>\n",
              "      <td>2012-10-12 01:30:00</td>\n",
              "      <td>0.0</td>\n",
              "      <td>ACORN-A</td>\n",
              "      <td>Affluent</td>\n",
              "    </tr>\n",
              "    <tr>\n",
              "      <th>3</th>\n",
              "      <td>MAC000002</td>\n",
              "      <td>Std</td>\n",
              "      <td>2012-10-12 02:00:00</td>\n",
              "      <td>0.0</td>\n",
              "      <td>ACORN-A</td>\n",
              "      <td>Affluent</td>\n",
              "    </tr>\n",
              "    <tr>\n",
              "      <th>4</th>\n",
              "      <td>MAC000002</td>\n",
              "      <td>Std</td>\n",
              "      <td>2012-10-12 02:30:00</td>\n",
              "      <td>0.0</td>\n",
              "      <td>ACORN-A</td>\n",
              "      <td>Affluent</td>\n",
              "    </tr>\n",
              "  </tbody>\n",
              "</table>\n",
              "</div>"
            ],
            "text/plain": [
              "       LCLid stdorToU            DateTime  KWh    Acorn Acorn_grouped\n",
              "0  MAC000002      Std 2012-10-12 00:30:00  0.0  ACORN-A      Affluent\n",
              "1  MAC000002      Std 2012-10-12 01:00:00  0.0  ACORN-A      Affluent\n",
              "2  MAC000002      Std 2012-10-12 01:30:00  0.0  ACORN-A      Affluent\n",
              "3  MAC000002      Std 2012-10-12 02:00:00  0.0  ACORN-A      Affluent\n",
              "4  MAC000002      Std 2012-10-12 02:30:00  0.0  ACORN-A      Affluent"
            ]
          },
          "metadata": {
            "tags": []
          },
          "execution_count": 5
        }
      ]
    },
    {
      "cell_type": "code",
      "metadata": {
        "id": "36zkgFj_AXmN",
        "colab_type": "code",
        "outputId": "e67e4a8d-288b-45b9-a844-a81514af1bc5",
        "colab": {
          "base_uri": "https://localhost:8080/",
          "height": 1000
        }
      },
      "source": [
        "ser = df.groupby(['DateTime', 'LCLid']).KWh.mean()\n",
        "display(ser)"
      ],
      "execution_count": 6,
      "outputs": [
        {
          "output_type": "display_data",
          "data": {
            "text/plain": [
              "DateTime             LCLid    \n",
              "2011-12-06 13:00:00  MAC000016    0.105\n",
              "2011-12-06 13:30:00  MAC000016    0.134\n",
              "2011-12-06 14:00:00  MAC000016    0.141\n",
              "2011-12-06 14:30:00  MAC000016    0.130\n",
              "2011-12-06 15:00:00  MAC000016    0.149\n",
              "2011-12-06 15:30:00  MAC000016    0.131\n",
              "2011-12-06 16:00:00  MAC000016    0.133\n",
              "2011-12-06 16:30:00  MAC000016    0.148\n",
              "2011-12-06 17:00:00  MAC000016    0.128\n",
              "2011-12-06 17:30:00  MAC000016    0.128\n",
              "2011-12-06 18:00:00  MAC000016    0.151\n",
              "2011-12-06 18:30:00  MAC000016    0.257\n",
              "2011-12-06 19:00:00  MAC000016    0.135\n",
              "2011-12-06 19:30:00  MAC000016    0.139\n",
              "2011-12-06 20:00:00  MAC000016    0.199\n",
              "2011-12-06 20:30:00  MAC000016    0.148\n",
              "2011-12-06 21:00:00  MAC000016    0.126\n",
              "2011-12-06 21:30:00  MAC000016    0.146\n",
              "2011-12-06 22:00:00  MAC000016    0.129\n",
              "2011-12-06 22:30:00  MAC000016    0.112\n",
              "2011-12-06 23:00:00  MAC000016    0.056\n",
              "2011-12-06 23:30:00  MAC000016    0.022\n",
              "2011-12-07 00:00:00  MAC000016    0.023\n",
              "2011-12-07 00:30:00  MAC000016    0.042\n",
              "2011-12-07 01:00:00  MAC000016    0.023\n",
              "2011-12-07 01:30:00  MAC000016    0.032\n",
              "2011-12-07 02:00:00  MAC000016    0.035\n",
              "2011-12-07 02:30:00  MAC000016    0.021\n",
              "2011-12-07 03:00:00  MAC000016    0.043\n",
              "2011-12-07 03:30:00  MAC000016    0.034\n",
              "                                  ...  \n",
              "2014-02-27 23:30:00  MAC000032    0.001\n",
              "                     MAC000033    0.165\n",
              "                     MAC000034    0.244\n",
              "                     MAC000035    0.556\n",
              "2014-02-28 00:00:00  MAC000002    1.387\n",
              "                     MAC000003    0.070\n",
              "                     MAC000004    0.081\n",
              "                     MAC000006    0.028\n",
              "                     MAC000007    0.060\n",
              "                     MAC000009    0.050\n",
              "                     MAC000010    0.276\n",
              "                     MAC000011    0.112\n",
              "                     MAC000012    0.000\n",
              "                     MAC000013    0.083\n",
              "                     MAC000018    0.380\n",
              "                     MAC000019    0.168\n",
              "                     MAC000020    0.060\n",
              "                     MAC000021    0.737\n",
              "                     MAC000022    0.287\n",
              "                     MAC000023    0.160\n",
              "                     MAC000024    2.118\n",
              "                     MAC000025    0.005\n",
              "                     MAC000026    0.272\n",
              "                     MAC000027    0.200\n",
              "                     MAC000029    0.055\n",
              "                     MAC000030    0.078\n",
              "                     MAC000032    2.466\n",
              "                     MAC000033    0.253\n",
              "                     MAC000034    5.690\n",
              "                     MAC000035    0.551\n",
              "Name: KWh, Length: 999283, dtype: float64"
            ]
          },
          "metadata": {
            "tags": []
          }
        }
      ]
    },
    {
      "cell_type": "code",
      "metadata": {
        "id": "eMjjx6aBAXpf",
        "colab_type": "code",
        "outputId": "38ad434d-7401-493c-b1d4-5b89e51b715c",
        "colab": {
          "base_uri": "https://localhost:8080/",
          "height": 344
        }
      },
      "source": [
        "new = ser.unstack()\n",
        "new.tail()"
      ],
      "execution_count": 7,
      "outputs": [
        {
          "output_type": "execute_result",
          "data": {
            "text/html": [
              "<div>\n",
              "<style scoped>\n",
              "    .dataframe tbody tr th:only-of-type {\n",
              "        vertical-align: middle;\n",
              "    }\n",
              "\n",
              "    .dataframe tbody tr th {\n",
              "        vertical-align: top;\n",
              "    }\n",
              "\n",
              "    .dataframe thead th {\n",
              "        text-align: right;\n",
              "    }\n",
              "</style>\n",
              "<table border=\"1\" class=\"dataframe\">\n",
              "  <thead>\n",
              "    <tr style=\"text-align: right;\">\n",
              "      <th>LCLid</th>\n",
              "      <th>MAC000002</th>\n",
              "      <th>MAC000003</th>\n",
              "      <th>MAC000004</th>\n",
              "      <th>MAC000006</th>\n",
              "      <th>MAC000007</th>\n",
              "      <th>MAC000008</th>\n",
              "      <th>MAC000009</th>\n",
              "      <th>MAC000010</th>\n",
              "      <th>MAC000011</th>\n",
              "      <th>MAC000012</th>\n",
              "      <th>MAC000013</th>\n",
              "      <th>MAC000016</th>\n",
              "      <th>MAC000018</th>\n",
              "      <th>MAC000019</th>\n",
              "      <th>MAC000020</th>\n",
              "      <th>MAC000021</th>\n",
              "      <th>MAC000022</th>\n",
              "      <th>MAC000023</th>\n",
              "      <th>MAC000024</th>\n",
              "      <th>MAC000025</th>\n",
              "      <th>MAC000026</th>\n",
              "      <th>MAC000027</th>\n",
              "      <th>MAC000028</th>\n",
              "      <th>MAC000029</th>\n",
              "      <th>MAC000030</th>\n",
              "      <th>MAC000032</th>\n",
              "      <th>MAC000033</th>\n",
              "      <th>MAC000034</th>\n",
              "      <th>MAC000035</th>\n",
              "      <th>MAC000036</th>\n",
              "    </tr>\n",
              "    <tr>\n",
              "      <th>DateTime</th>\n",
              "      <th></th>\n",
              "      <th></th>\n",
              "      <th></th>\n",
              "      <th></th>\n",
              "      <th></th>\n",
              "      <th></th>\n",
              "      <th></th>\n",
              "      <th></th>\n",
              "      <th></th>\n",
              "      <th></th>\n",
              "      <th></th>\n",
              "      <th></th>\n",
              "      <th></th>\n",
              "      <th></th>\n",
              "      <th></th>\n",
              "      <th></th>\n",
              "      <th></th>\n",
              "      <th></th>\n",
              "      <th></th>\n",
              "      <th></th>\n",
              "      <th></th>\n",
              "      <th></th>\n",
              "      <th></th>\n",
              "      <th></th>\n",
              "      <th></th>\n",
              "      <th></th>\n",
              "      <th></th>\n",
              "      <th></th>\n",
              "      <th></th>\n",
              "      <th></th>\n",
              "    </tr>\n",
              "  </thead>\n",
              "  <tbody>\n",
              "    <tr>\n",
              "      <th>2014-02-27 22:00:00</th>\n",
              "      <td>0.416</td>\n",
              "      <td>0.042</td>\n",
              "      <td>0.167</td>\n",
              "      <td>0.067</td>\n",
              "      <td>0.282</td>\n",
              "      <td>NaN</td>\n",
              "      <td>0.193</td>\n",
              "      <td>0.534</td>\n",
              "      <td>0.171</td>\n",
              "      <td>0.055</td>\n",
              "      <td>0.132</td>\n",
              "      <td>NaN</td>\n",
              "      <td>0.376</td>\n",
              "      <td>0.193</td>\n",
              "      <td>0.204</td>\n",
              "      <td>0.500</td>\n",
              "      <td>0.268</td>\n",
              "      <td>0.421</td>\n",
              "      <td>0.233</td>\n",
              "      <td>0.011</td>\n",
              "      <td>0.516</td>\n",
              "      <td>0.171</td>\n",
              "      <td>NaN</td>\n",
              "      <td>0.063</td>\n",
              "      <td>0.166</td>\n",
              "      <td>0.067</td>\n",
              "      <td>0.238</td>\n",
              "      <td>0.188</td>\n",
              "      <td>0.698</td>\n",
              "      <td>NaN</td>\n",
              "    </tr>\n",
              "    <tr>\n",
              "      <th>2014-02-27 22:30:00</th>\n",
              "      <td>1.350</td>\n",
              "      <td>0.117</td>\n",
              "      <td>0.000</td>\n",
              "      <td>0.047</td>\n",
              "      <td>0.346</td>\n",
              "      <td>NaN</td>\n",
              "      <td>0.338</td>\n",
              "      <td>0.478</td>\n",
              "      <td>0.145</td>\n",
              "      <td>0.049</td>\n",
              "      <td>0.126</td>\n",
              "      <td>NaN</td>\n",
              "      <td>0.379</td>\n",
              "      <td>0.180</td>\n",
              "      <td>0.213</td>\n",
              "      <td>0.475</td>\n",
              "      <td>0.243</td>\n",
              "      <td>0.421</td>\n",
              "      <td>0.353</td>\n",
              "      <td>0.019</td>\n",
              "      <td>0.401</td>\n",
              "      <td>0.137</td>\n",
              "      <td>NaN</td>\n",
              "      <td>0.060</td>\n",
              "      <td>0.354</td>\n",
              "      <td>0.051</td>\n",
              "      <td>0.144</td>\n",
              "      <td>0.176</td>\n",
              "      <td>0.625</td>\n",
              "      <td>NaN</td>\n",
              "    </tr>\n",
              "    <tr>\n",
              "      <th>2014-02-27 23:00:00</th>\n",
              "      <td>1.247</td>\n",
              "      <td>0.064</td>\n",
              "      <td>0.000</td>\n",
              "      <td>0.014</td>\n",
              "      <td>0.168</td>\n",
              "      <td>NaN</td>\n",
              "      <td>0.207</td>\n",
              "      <td>0.584</td>\n",
              "      <td>0.118</td>\n",
              "      <td>0.024</td>\n",
              "      <td>0.147</td>\n",
              "      <td>NaN</td>\n",
              "      <td>0.382</td>\n",
              "      <td>0.185</td>\n",
              "      <td>0.089</td>\n",
              "      <td>0.414</td>\n",
              "      <td>0.227</td>\n",
              "      <td>0.281</td>\n",
              "      <td>0.889</td>\n",
              "      <td>0.005</td>\n",
              "      <td>0.548</td>\n",
              "      <td>0.102</td>\n",
              "      <td>NaN</td>\n",
              "      <td>0.060</td>\n",
              "      <td>0.198</td>\n",
              "      <td>0.047</td>\n",
              "      <td>0.199</td>\n",
              "      <td>0.224</td>\n",
              "      <td>0.628</td>\n",
              "      <td>NaN</td>\n",
              "    </tr>\n",
              "    <tr>\n",
              "      <th>2014-02-27 23:30:00</th>\n",
              "      <td>1.218</td>\n",
              "      <td>0.047</td>\n",
              "      <td>0.000</td>\n",
              "      <td>0.039</td>\n",
              "      <td>0.109</td>\n",
              "      <td>NaN</td>\n",
              "      <td>0.130</td>\n",
              "      <td>0.334</td>\n",
              "      <td>0.097</td>\n",
              "      <td>0.000</td>\n",
              "      <td>0.087</td>\n",
              "      <td>NaN</td>\n",
              "      <td>0.383</td>\n",
              "      <td>0.192</td>\n",
              "      <td>0.044</td>\n",
              "      <td>0.526</td>\n",
              "      <td>0.263</td>\n",
              "      <td>0.256</td>\n",
              "      <td>0.091</td>\n",
              "      <td>0.026</td>\n",
              "      <td>0.515</td>\n",
              "      <td>0.222</td>\n",
              "      <td>NaN</td>\n",
              "      <td>0.056</td>\n",
              "      <td>0.062</td>\n",
              "      <td>0.001</td>\n",
              "      <td>0.165</td>\n",
              "      <td>0.244</td>\n",
              "      <td>0.556</td>\n",
              "      <td>NaN</td>\n",
              "    </tr>\n",
              "    <tr>\n",
              "      <th>2014-02-28 00:00:00</th>\n",
              "      <td>1.387</td>\n",
              "      <td>0.070</td>\n",
              "      <td>0.081</td>\n",
              "      <td>0.028</td>\n",
              "      <td>0.060</td>\n",
              "      <td>NaN</td>\n",
              "      <td>0.050</td>\n",
              "      <td>0.276</td>\n",
              "      <td>0.112</td>\n",
              "      <td>0.000</td>\n",
              "      <td>0.083</td>\n",
              "      <td>NaN</td>\n",
              "      <td>0.380</td>\n",
              "      <td>0.168</td>\n",
              "      <td>0.060</td>\n",
              "      <td>0.737</td>\n",
              "      <td>0.287</td>\n",
              "      <td>0.160</td>\n",
              "      <td>2.118</td>\n",
              "      <td>0.005</td>\n",
              "      <td>0.272</td>\n",
              "      <td>0.200</td>\n",
              "      <td>NaN</td>\n",
              "      <td>0.055</td>\n",
              "      <td>0.078</td>\n",
              "      <td>2.466</td>\n",
              "      <td>0.253</td>\n",
              "      <td>5.690</td>\n",
              "      <td>0.551</td>\n",
              "      <td>NaN</td>\n",
              "    </tr>\n",
              "  </tbody>\n",
              "</table>\n",
              "</div>"
            ],
            "text/plain": [
              "LCLid                MAC000002  MAC000003  ...  MAC000035  MAC000036\n",
              "DateTime                                   ...                      \n",
              "2014-02-27 22:00:00      0.416      0.042  ...      0.698        NaN\n",
              "2014-02-27 22:30:00      1.350      0.117  ...      0.625        NaN\n",
              "2014-02-27 23:00:00      1.247      0.064  ...      0.628        NaN\n",
              "2014-02-27 23:30:00      1.218      0.047  ...      0.556        NaN\n",
              "2014-02-28 00:00:00      1.387      0.070  ...      0.551        NaN\n",
              "\n",
              "[5 rows x 30 columns]"
            ]
          },
          "metadata": {
            "tags": []
          },
          "execution_count": 7
        }
      ]
    },
    {
      "cell_type": "code",
      "metadata": {
        "id": "ranjG1NKAXvK",
        "colab_type": "code",
        "outputId": "9aaf37ce-5193-4a62-ae93-659a560c83e9",
        "colab": {
          "base_uri": "https://localhost:8080/",
          "height": 139
        }
      },
      "source": [
        "new.columns"
      ],
      "execution_count": 8,
      "outputs": [
        {
          "output_type": "execute_result",
          "data": {
            "text/plain": [
              "Index(['MAC000002', 'MAC000003', 'MAC000004', 'MAC000006', 'MAC000007',\n",
              "       'MAC000008', 'MAC000009', 'MAC000010', 'MAC000011', 'MAC000012',\n",
              "       'MAC000013', 'MAC000016', 'MAC000018', 'MAC000019', 'MAC000020',\n",
              "       'MAC000021', 'MAC000022', 'MAC000023', 'MAC000024', 'MAC000025',\n",
              "       'MAC000026', 'MAC000027', 'MAC000028', 'MAC000029', 'MAC000030',\n",
              "       'MAC000032', 'MAC000033', 'MAC000034', 'MAC000035', 'MAC000036'],\n",
              "      dtype='object', name='LCLid')"
            ]
          },
          "metadata": {
            "tags": []
          },
          "execution_count": 8
        }
      ]
    },
    {
      "cell_type": "code",
      "metadata": {
        "id": "vldZDsO_AXsz",
        "colab_type": "code",
        "colab": {}
      },
      "source": [
        "import matplotlib.pyplot as plt"
      ],
      "execution_count": 0,
      "outputs": []
    },
    {
      "cell_type": "code",
      "metadata": {
        "id": "KwBRzQihEZQA",
        "colab_type": "code",
        "outputId": "841c124e-e54d-4afa-d54b-b9ccc5350fdf",
        "colab": {
          "base_uri": "https://localhost:8080/",
          "height": 311
        }
      },
      "source": [
        "new[\"MAC000021\"].plot()"
      ],
      "execution_count": 10,
      "outputs": [
        {
          "output_type": "execute_result",
          "data": {
            "text/plain": [
              "<matplotlib.axes._subplots.AxesSubplot at 0x7f08d238d4e0>"
            ]
          },
          "metadata": {
            "tags": []
          },
          "execution_count": 10
        },
        {
          "output_type": "display_data",
          "data": {
            "image/png": "[encoded data removed]",
            "text/plain": [
              "<Figure size 432x288 with 1 Axes>"
            ]
          },
          "metadata": {
            "tags": []
          }
        }
      ]
    },
    {
      "cell_type": "code",
      "metadata": {
        "id": "oIk3MlvcEZS6",
        "colab_type": "code",
        "colab": {}
      },
      "source": [
        "from heapq import nlargest\n",
        "\n",
        "no = nlargest(3, new.count())"
      ],
      "execution_count": 0,
      "outputs": []
    },
    {
      "cell_type": "code",
      "metadata": {
        "id": "q95ZtTcKEZVi",
        "colab_type": "code",
        "outputId": "716b18c4-7a19-4013-bcd5-26f208efed6b",
        "colab": {
          "base_uri": "https://localhost:8080/",
          "height": 34
        }
      },
      "source": [
        "display(no)\n",
        "      "
      ],
      "execution_count": 12,
      "outputs": [
        {
          "output_type": "display_data",
          "data": {
            "text/plain": [
              "[39054, 39051, 39051]"
            ]
          },
          "metadata": {
            "tags": []
          }
        }
      ]
    },
    {
      "cell_type": "code",
      "metadata": {
        "id": "AbxUZIJkEZYu",
        "colab_type": "code",
        "outputId": "eda0674b-8e53-4bf7-8c22-fe3baeb5de37",
        "colab": {
          "base_uri": "https://localhost:8080/",
          "height": 208
        }
      },
      "source": [
        "ser = new.count()\n",
        "\n",
        "for i in no:\n",
        "  print(ser[ser == i])"
      ],
      "execution_count": 13,
      "outputs": [
        {
          "output_type": "stream",
          "text": [
            "LCLid\n",
            "MAC000018    39054\n",
            "dtype: int64\n",
            "LCLid\n",
            "MAC000020    39051\n",
            "MAC000021    39051\n",
            "dtype: int64\n",
            "LCLid\n",
            "MAC000020    39051\n",
            "MAC000021    39051\n",
            "dtype: int64\n"
          ],
          "name": "stdout"
        }
      ]
    },
    {
      "cell_type": "code",
      "metadata": {
        "id": "ItRSwuf4EZfJ",
        "colab_type": "code",
        "colab": {}
      },
      "source": [
        "new_df = new[[\"MAC000018\", \"MAC000020\", \"MAC000021\"]]"
      ],
      "execution_count": 0,
      "outputs": []
    },
    {
      "cell_type": "code",
      "metadata": {
        "id": "w0ZSwZ6wcN1e",
        "colab_type": "code",
        "outputId": "11361f45-f0ea-4b43-db74-3dd19f1dc25c",
        "colab": {
          "base_uri": "https://localhost:8080/",
          "height": 104
        }
      },
      "source": [
        "new_df.dropna(inplace=True)"
      ],
      "execution_count": 15,
      "outputs": [
        {
          "output_type": "stream",
          "text": [
            "/usr/local/lib/python3.6/dist-packages/ipykernel_launcher.py:1: SettingWithCopyWarning: \n",
            "A value is trying to be set on a copy of a slice from a DataFrame\n",
            "\n",
            "See the caveats in the documentation: http://pandas.pydata.org/pandas-docs/stable/indexing.html#indexing-view-versus-copy\n",
            "  \"\"\"Entry point for launching an IPython kernel.\n"
          ],
          "name": "stderr"
        }
      ]
    },
    {
      "cell_type": "code",
      "metadata": {
        "id": "_03nqZ4B7pfj",
        "colab_type": "code",
        "colab": {}
      },
      "source": [
        ""
      ],
      "execution_count": 0,
      "outputs": []
    },
    {
      "cell_type": "code",
      "metadata": {
        "id": "i3rp7hyzZThA",
        "colab_type": "code",
        "colab": {}
      },
      "source": [
        "import pandas as pd\n",
        "import numpy as np\n",
        "import matplotlib.pyplot as plt\n",
        "%matplotlib inline\n",
        "\n",
        "# Import Statsmodels\n",
        "from statsmodels.tsa.api import VAR\n",
        "from statsmodels.tsa.stattools import adfuller\n",
        "from statsmodels.tools.eval_measures import rmse, aic"
      ],
      "execution_count": 0,
      "outputs": []
    },
    {
      "cell_type": "code",
      "metadata": {
        "id": "Aa6Ig-yGZTWE",
        "colab_type": "code",
        "outputId": "5c5f92d6-bde2-4e86-95c6-28ace6173258",
        "colab": {
          "base_uri": "https://localhost:8080/",
          "height": 724
        }
      },
      "source": [
        "ct = 0\n",
        "fig, axes = plt.subplots(nrows=2, ncols=2, dpi=120, figsize=(10,6))\n",
        "for i, ax in enumerate(axes.flatten()):\n",
        "  if ct < 3:\n",
        "    data = new_df[new_df.columns[i]]\n",
        "    ax.plot(data, color='red', linewidth=1)\n",
        "    # Decorations\n",
        "    ax.set_title(new_df.columns[i])\n",
        "    ax.xaxis.set_ticks_position('none')\n",
        "    ax.yaxis.set_ticks_position('none')\n",
        "    ax.spines[\"top\"].set_alpha(0)\n",
        "    ax.tick_params(labelsize=6)\n",
        "    ct += 1\n",
        "plt.tight_layout();"
      ],
      "execution_count": 17,
      "outputs": [
        {
          "output_type": "display_data",
          "data": {
            "image/png": "[encoded data removed]",
            "text/plain": [
              "<Figure size 1200x720 with 4 Axes>"
            ]
          },
          "metadata": {
            "tags": []
          }
        }
      ]
    },
    {
      "cell_type": "code",
      "metadata": {
        "id": "9rAi0eESZTTU",
        "colab_type": "code",
        "outputId": "8fd00b94-4f18-4b79-d3de-ae0e269a1565",
        "colab": {
          "base_uri": "https://localhost:8080/",
          "height": 143
        }
      },
      "source": [
        "from statsmodels.tsa.stattools import grangercausalitytests\n",
        "maxlag=12\n",
        "test = 'ssr_chi2test'\n",
        "def grangers_causation_matrix(data, variables, test='ssr_chi2test', verbose=False):    \n",
        "    \"\"\"Check Granger Causality of all possible combinations of the Time series.\n",
        "    The rows are the response variable, columns are predictors. The values in the table \n",
        "    are the P-Values. P-Values lesser than the significance level (0.05), implies \n",
        "    the Null Hypothesis that the coefficients of the corresponding past values is \n",
        "    zero, that is, the X does not cause Y can be rejected.\n",
        "\n",
        "    data      : pandas dataframe containing the time series variables\n",
        "    variables : list containing names of the time series variables.\n",
        "    \"\"\"\n",
        "    df = pd.DataFrame(np.zeros((len(variables), len(variables))), columns=variables, index=variables)\n",
        "    for c in df.columns:\n",
        "        for r in df.index:\n",
        "            test_result = grangercausalitytests(data[[r, c]], maxlag=maxlag, verbose=False)\n",
        "            p_values = [round(test_result[i+1][0][test][1],4) for i in range(maxlag)]\n",
        "            if verbose: print(f'Y = {r}, X = {c}, P Values = {p_values}')\n",
        "            min_p_value = np.min(p_values)\n",
        "            df.loc[r, c] = min_p_value\n",
        "    df.columns = [var + '_x' for var in variables]\n",
        "    df.index = [var + '_y' for var in variables]\n",
        "    return df\n",
        "\n",
        "grangers_causation_matrix(new_df, variables = new_df.columns)"
      ],
      "execution_count": 18,
      "outputs": [
        {
          "output_type": "execute_result",
          "data": {
            "text/html": [
              "<div>\n",
              "<style scoped>\n",
              "    .dataframe tbody tr th:only-of-type {\n",
              "        vertical-align: middle;\n",
              "    }\n",
              "\n",
              "    .dataframe tbody tr th {\n",
              "        vertical-align: top;\n",
              "    }\n",
              "\n",
              "    .dataframe thead th {\n",
              "        text-align: right;\n",
              "    }\n",
              "</style>\n",
              "<table border=\"1\" class=\"dataframe\">\n",
              "  <thead>\n",
              "    <tr style=\"text-align: right;\">\n",
              "      <th></th>\n",
              "      <th>MAC000018_x</th>\n",
              "      <th>MAC000020_x</th>\n",
              "      <th>MAC000021_x</th>\n",
              "    </tr>\n",
              "  </thead>\n",
              "  <tbody>\n",
              "    <tr>\n",
              "      <th>MAC000018_y</th>\n",
              "      <td>1.0000</td>\n",
              "      <td>0.0</td>\n",
              "      <td>0.0</td>\n",
              "    </tr>\n",
              "    <tr>\n",
              "      <th>MAC000020_y</th>\n",
              "      <td>0.0000</td>\n",
              "      <td>1.0</td>\n",
              "      <td>0.0</td>\n",
              "    </tr>\n",
              "    <tr>\n",
              "      <th>MAC000021_y</th>\n",
              "      <td>0.0052</td>\n",
              "      <td>0.0</td>\n",
              "      <td>1.0</td>\n",
              "    </tr>\n",
              "  </tbody>\n",
              "</table>\n",
              "</div>"
            ],
            "text/plain": [
              "             MAC000018_x  MAC000020_x  MAC000021_x\n",
              "MAC000018_y       1.0000          0.0          0.0\n",
              "MAC000020_y       0.0000          1.0          0.0\n",
              "MAC000021_y       0.0052          0.0          1.0"
            ]
          },
          "metadata": {
            "tags": []
          },
          "execution_count": 18
        }
      ]
    },
    {
      "cell_type": "code",
      "metadata": {
        "id": "w2jE9UgbZTP9",
        "colab_type": "code",
        "outputId": "89e39ef2-d59d-47b3-ef3d-9d0667f546ba",
        "colab": {
          "base_uri": "https://localhost:8080/",
          "height": 104
        }
      },
      "source": [
        "from statsmodels.tsa.vector_ar.vecm import coint_johansen\n",
        "\n",
        "def cointegration_test(df, alpha=0.05): \n",
        "    \"\"\"Perform Johanson's Cointegration Test and Report Summary\"\"\"\n",
        "    out = coint_johansen(df,-1,5)\n",
        "    d = {'0.90':0, '0.95':1, '0.99':2}\n",
        "    traces = out.lr1\n",
        "    cvts = out.cvt[:, d[str(1-alpha)]]\n",
        "    def adjust(val, length= 6): return str(val).ljust(length)\n",
        "\n",
        "    # Summary\n",
        "    print('Name   ::  Test Stat > C(95%)    =>   Signif  \\n', '--'*20)\n",
        "    for col, trace, cvt in zip(df.columns, traces, cvts):\n",
        "        print(adjust(col), ':: ', adjust(round(trace,2), 9), \">\", adjust(cvt, 8), ' =>  ' , trace > cvt)\n",
        "\n",
        "cointegration_test(new_df)"
      ],
      "execution_count": 19,
      "outputs": [
        {
          "output_type": "stream",
          "text": [
            "Name   ::  Test Stat > C(95%)    =>   Signif  \n",
            " ----------------------------------------\n",
            "MAC000018 ::  5657.46   > 24.2761   =>   True\n",
            "MAC000020 ::  2484.77   > 12.3212   =>   True\n",
            "MAC000021 ::  223.91    > 4.1296    =>   True\n"
          ],
          "name": "stdout"
        }
      ]
    },
    {
      "cell_type": "code",
      "metadata": {
        "id": "k_QynA4rZTM2",
        "colab_type": "code",
        "colab": {}
      },
      "source": [
        "def adfuller_test(series, signif=0.05, name='', verbose=False):\n",
        "    \"\"\"Perform ADFuller to test for Stationarity of given series and print report\"\"\"\n",
        "    r = adfuller(series, autolag='AIC')\n",
        "    output = {'test_statistic':round(r[0], 4), 'pvalue':round(r[1], 4), 'n_lags':round(r[2], 4), 'n_obs':r[3]}\n",
        "    p_value = output['pvalue'] \n",
        "    def adjust(val, length= 6): return str(val).ljust(length)\n",
        "\n",
        "    # Print Summary\n",
        "    print(f'    Augmented Dickey-Fuller Test on \"{name}\"', \"\\n   \", '-'*47)\n",
        "    print(f' Null Hypothesis: Data has unit root. Non-Stationary.')\n",
        "    print(f' Significance Level    = {signif}')\n",
        "    print(f' Test Statistic        = {output[\"test_statistic\"]}')\n",
        "    print(f' No. Lags Chosen       = {output[\"n_lags\"]}')\n",
        "\n",
        "    for key,val in r[4].items():\n",
        "        print(f' Critical value {adjust(key)} = {round(val, 3)}')\n",
        "\n",
        "    if p_value <= signif:\n",
        "        print(f\" => P-Value = {p_value}. Rejecting Null Hypothesis.\")\n",
        "        print(f\" => Series is Stationary.\")\n",
        "    else:\n",
        "        print(f\" => P-Value = {p_value}. Weak evidence to reject the Null Hypothesis.\")\n",
        "        print(f\" => Series is Non-Stationary.\")    "
      ],
      "execution_count": 0,
      "outputs": []
    },
    {
      "cell_type": "code",
      "metadata": {
        "id": "CRjK4_UgcN46",
        "colab_type": "code",
        "outputId": "d58284d6-9a39-4406-d25b-d49b12da8278",
        "colab": {
          "base_uri": "https://localhost:8080/",
          "height": 52
        }
      },
      "source": [
        "nobs = 12\n",
        "tr_df, te_df = new_df[0:-nobs], new_df[-nobs:]\n",
        "\n",
        "# Check size\n",
        "print(tr_df.shape)  \n",
        "print(te_df.shape) "
      ],
      "execution_count": 21,
      "outputs": [
        {
          "output_type": "stream",
          "text": [
            "(39043, 3)\n",
            "(5, 3)\n"
          ],
          "name": "stdout"
        }
      ]
    },
    {
      "cell_type": "code",
      "metadata": {
        "id": "PeLM9_AhZTI-",
        "colab_type": "code",
        "outputId": "489152d5-7d3e-4cdc-d1b7-4293e9f0bc57",
        "colab": {
          "base_uri": "https://localhost:8080/",
          "height": 694
        }
      },
      "source": [
        "# ADF Test on each column\n",
        "for name, column in tr_df.iteritems():\n",
        "    adfuller_test(column, name=column.name)\n",
        "    print('\\n')"
      ],
      "execution_count": 22,
      "outputs": [
        {
          "output_type": "stream",
          "text": [
            "    Augmented Dickey-Fuller Test on \"MAC000018\" \n",
            "    -----------------------------------------------\n",
            " Null Hypothesis: Data has unit root. Non-Stationary.\n",
            " Significance Level    = 0.05\n",
            " Test Statistic        = -14.1314\n",
            " No. Lags Chosen       = 48\n",
            " Critical value 1%     = -3.431\n",
            " Critical value 5%     = -2.862\n",
            " Critical value 10%    = -2.567\n",
            " => P-Value = 0.0. Rejecting Null Hypothesis.\n",
            " => Series is Stationary.\n",
            "\n",
            "\n",
            "    Augmented Dickey-Fuller Test on \"MAC000020\" \n",
            "    -----------------------------------------------\n",
            " Null Hypothesis: Data has unit root. Non-Stationary.\n",
            " Significance Level    = 0.05\n",
            " Test Statistic        = -15.7127\n",
            " No. Lags Chosen       = 51\n",
            " Critical value 1%     = -3.431\n",
            " Critical value 5%     = -2.862\n",
            " Critical value 10%    = -2.567\n",
            " => P-Value = 0.0. Rejecting Null Hypothesis.\n",
            " => Series is Stationary.\n",
            "\n",
            "\n",
            "    Augmented Dickey-Fuller Test on \"MAC000021\" \n",
            "    -----------------------------------------------\n",
            " Null Hypothesis: Data has unit root. Non-Stationary.\n",
            " Significance Level    = 0.05\n",
            " Test Statistic        = -13.5045\n",
            " No. Lags Chosen       = 53\n",
            " Critical value 1%     = -3.431\n",
            " Critical value 5%     = -2.862\n",
            " Critical value 10%    = -2.567\n",
            " => P-Value = 0.0. Rejecting Null Hypothesis.\n",
            " => Series is Stationary.\n",
            "\n",
            "\n"
          ],
          "name": "stdout"
        }
      ]
    },
    {
      "cell_type": "code",
      "metadata": {
        "id": "HWQgKdTpZTEH",
        "colab_type": "code",
        "outputId": "8aba1d41-00dd-4bfc-cbc3-dd2a0f39e546",
        "colab": {
          "base_uri": "https://localhost:8080/",
          "height": 408
        }
      },
      "source": [
        "model = VAR(tr_df)\n",
        "x = model.select_order(maxlags=12)\n",
        "x.summary()"
      ],
      "execution_count": 23,
      "outputs": [
        {
          "output_type": "stream",
          "text": [
            "/usr/local/lib/python3.6/dist-packages/statsmodels/tsa/base/tsa_model.py:219: ValueWarning: A date index has been provided, but it has no associated frequency information and so will be ignored when e.g. forecasting.\n",
            "  ' ignored when e.g. forecasting.', ValueWarning)\n"
          ],
          "name": "stderr"
        },
        {
          "output_type": "execute_result",
          "data": {
            "text/html": [
              "<table class=\"simpletable\">\n",
              "<caption>VAR Order Selection (* highlights the minimums)</caption>\n",
              "<tr>\n",
              "   <td></td>      <th>AIC</th>         <th>BIC</th>         <th>FPE</th>        <th>HQIC</th>    \n",
              "</tr>\n",
              "<tr>\n",
              "  <th>0</th>  <td>    -10.36</td>  <td>    -10.36</td>  <td> 3.153e-05</td>  <td>    -10.36</td> \n",
              "</tr>\n",
              "<tr>\n",
              "  <th>1</th>  <td>    -12.52</td>  <td>    -12.52</td>  <td> 3.648e-06</td>  <td>    -12.52</td> \n",
              "</tr>\n",
              "<tr>\n",
              "  <th>2</th>  <td>    -12.56</td>  <td>    -12.55</td>  <td> 3.520e-06</td>  <td>    -12.56</td> \n",
              "</tr>\n",
              "<tr>\n",
              "  <th>3</th>  <td>    -12.59</td>  <td>    -12.58</td>  <td> 3.414e-06</td>  <td>    -12.59</td> \n",
              "</tr>\n",
              "<tr>\n",
              "  <th>4</th>  <td>    -12.60</td>  <td>    -12.59</td>  <td> 3.382e-06</td>  <td>    -12.59</td> \n",
              "</tr>\n",
              "<tr>\n",
              "  <th>5</th>  <td>    -12.60</td>  <td>    -12.59*</td> <td> 3.372e-06</td>  <td>    -12.60</td> \n",
              "</tr>\n",
              "<tr>\n",
              "  <th>6</th>  <td>    -12.60</td>  <td>    -12.59</td>  <td> 3.370e-06</td>  <td>    -12.60</td> \n",
              "</tr>\n",
              "<tr>\n",
              "  <th>7</th>  <td>    -12.60</td>  <td>    -12.59</td>  <td> 3.368e-06</td>  <td>    -12.60</td> \n",
              "</tr>\n",
              "<tr>\n",
              "  <th>8</th>  <td>    -12.60</td>  <td>    -12.58</td>  <td> 3.367e-06</td>  <td>    -12.60</td> \n",
              "</tr>\n",
              "<tr>\n",
              "  <th>9</th>  <td>    -12.60</td>  <td>    -12.58</td>  <td> 3.366e-06</td>  <td>    -12.60</td> \n",
              "</tr>\n",
              "<tr>\n",
              "  <th>10</th> <td>    -12.60</td>  <td>    -12.58</td>  <td> 3.363e-06</td>  <td>    -12.60</td> \n",
              "</tr>\n",
              "<tr>\n",
              "  <th>11</th> <td>    -12.60</td>  <td>    -12.58</td>  <td> 3.360e-06</td>  <td>    -12.60</td> \n",
              "</tr>\n",
              "<tr>\n",
              "  <th>12</th> <td>    -12.60*</td> <td>    -12.58</td>  <td> 3.356e-06*</td> <td>    -12.60*</td>\n",
              "</tr>\n",
              "</table>"
            ],
            "text/plain": [
              "<class 'statsmodels.iolib.table.SimpleTable'>"
            ]
          },
          "metadata": {
            "tags": []
          },
          "execution_count": 23
        }
      ]
    },
    {
      "cell_type": "code",
      "metadata": {
        "id": "ZYaMrNhdZTA5",
        "colab_type": "code",
        "outputId": "b333d9de-c4de-4e96-94d5-31ffde51f823",
        "colab": {
          "base_uri": "https://localhost:8080/",
          "height": 851
        }
      },
      "source": [
        "model_fitted = model.fit(1)\n",
        "model_fitted.summary()"
      ],
      "execution_count": 24,
      "outputs": [
        {
          "output_type": "execute_result",
          "data": {
            "text/plain": [
              "  Summary of Regression Results   \n",
              "==================================\n",
              "Model:                         VAR\n",
              "Method:                        OLS\n",
              "Date:           Sun, 25, Aug, 2019\n",
              "Time:                     11:09:41\n",
              "--------------------------------------------------------------------\n",
              "No. of Equations:         3.00000    BIC:                   -12.5181\n",
              "Nobs:                     39042.0    HQIC:                  -12.5199\n",
              "Log likelihood:           78235.2    FPE:                3.65009e-06\n",
              "AIC:                     -12.5208    Det(Omega_mle):     3.64896e-06\n",
              "--------------------------------------------------------------------\n",
              "Results for equation MAC000018\n",
              "===============================================================================\n",
              "                  coefficient       std. error           t-stat            prob\n",
              "-------------------------------------------------------------------------------\n",
              "const                0.038647         0.001454           26.576           0.000\n",
              "L1.MAC000018         0.770324         0.003216          239.554           0.000\n",
              "L1.MAC000020         0.030268         0.003892            7.777           0.000\n",
              "L1.MAC000021         0.018353         0.002443            7.514           0.000\n",
              "===============================================================================\n",
              "\n",
              "Results for equation MAC000020\n",
              "===============================================================================\n",
              "                  coefficient       std. error           t-stat            prob\n",
              "-------------------------------------------------------------------------------\n",
              "const                0.043337         0.001561           27.754           0.000\n",
              "L1.MAC000018         0.013731         0.003453            3.977           0.000\n",
              "L1.MAC000020         0.568444         0.004179          136.017           0.000\n",
              "L1.MAC000021         0.026938         0.002623           10.271           0.000\n",
              "===============================================================================\n",
              "\n",
              "Results for equation MAC000021\n",
              "===============================================================================\n",
              "                  coefficient       std. error           t-stat            prob\n",
              "-------------------------------------------------------------------------------\n",
              "const                0.106939         0.001981           53.984           0.000\n",
              "L1.MAC000018        -0.000265         0.004380           -0.061           0.952\n",
              "L1.MAC000020         0.066339         0.005302           12.512           0.000\n",
              "L1.MAC000021         0.752704         0.003327          226.218           0.000\n",
              "===============================================================================\n",
              "\n",
              "Correlation matrix of residuals\n",
              "             MAC000018  MAC000020  MAC000021\n",
              "MAC000018     1.000000   0.029752   0.011084\n",
              "MAC000020     0.029752   1.000000   0.029208\n",
              "MAC000021     0.011084   0.029208   1.000000\n",
              "\n"
            ]
          },
          "metadata": {
            "tags": []
          },
          "execution_count": 24
        }
      ]
    },
    {
      "cell_type": "code",
      "metadata": {
        "id": "JK12iGzMZSzT",
        "colab_type": "code",
        "outputId": "4093b726-31ea-404e-8d81-b673841dd288",
        "colab": {
          "base_uri": "https://localhost:8080/",
          "height": 69
        }
      },
      "source": [
        "from statsmodels.stats.stattools import durbin_watson\n",
        "out = durbin_watson(model_fitted.resid)\n",
        "\n",
        "for col, val in zip(new_df.columns, out):\n",
        "    print(col, ':', round(val, 2))"
      ],
      "execution_count": 25,
      "outputs": [
        {
          "output_type": "stream",
          "text": [
            "MAC000018 : 1.99\n",
            "MAC000020 : 2.05\n",
            "MAC000021 : 2.27\n"
          ],
          "name": "stdout"
        }
      ]
    },
    {
      "cell_type": "code",
      "metadata": {
        "id": "vhsXf4iHBYAe",
        "colab_type": "code",
        "outputId": "a462c261-1eb6-4c5f-9371-ad8f886a9905",
        "colab": {
          "base_uri": "https://localhost:8080/",
          "height": 52
        }
      },
      "source": [
        "# Get the lag order\n",
        "lag_order = model_fitted.k_ar\n",
        "print(lag_order)  #> 5\n",
        "\n",
        "# Input data for forecasting\n",
        "forecast_input = tr_df.values[-lag_order:]\n",
        "forecast_input"
      ],
      "execution_count": 26,
      "outputs": [
        {
          "output_type": "stream",
          "text": [
            "1\n"
          ],
          "name": "stdout"
        },
        {
          "output_type": "execute_result",
          "data": {
            "text/plain": [
              "array([[0.382, 0.257, 0.404]])"
            ]
          },
          "metadata": {
            "tags": []
          },
          "execution_count": 26
        }
      ]
    },
    {
      "cell_type": "code",
      "metadata": {
        "id": "ZBJRRgppBYDs",
        "colab_type": "code",
        "colab": {}
      },
      "source": [
        "# Forecast\n",
        "fc = model_fitted.forecast(y=forecast_input, steps=nobs)\n",
        "df_forecast = pd.DataFrame(fc, index=new_df.index[-nobs:], columns=new_df.columns + '_2d')\n",
        "#df_forecast = df_forecast.drop(['Day_2d','Hour_2d'], axis = 1)\n",
        "df_forecast = df_forecast.round(3)"
      ],
      "execution_count": 0,
      "outputs": []
    },
    {
      "cell_type": "code",
      "metadata": {
        "id": "DvnA3WWRBYGz",
        "colab_type": "code",
        "outputId": "01dce282-f627-480c-dac6-b2c9f21721eb",
        "colab": {
          "base_uri": "https://localhost:8080/",
          "height": 238
        }
      },
      "source": [
        "#te_df = te_df.drop(['Day','Hour'], axis = 1)\n",
        "te_df"
      ],
      "execution_count": 28,
      "outputs": [
        {
          "output_type": "execute_result",
          "data": {
            "text/html": [
              "<div>\n",
              "<style scoped>\n",
              "    .dataframe tbody tr th:only-of-type {\n",
              "        vertical-align: middle;\n",
              "    }\n",
              "\n",
              "    .dataframe tbody tr th {\n",
              "        vertical-align: top;\n",
              "    }\n",
              "\n",
              "    .dataframe thead th {\n",
              "        text-align: right;\n",
              "    }\n",
              "</style>\n",
              "<table border=\"1\" class=\"dataframe\">\n",
              "  <thead>\n",
              "    <tr style=\"text-align: right;\">\n",
              "      <th>LCLid</th>\n",
              "      <th>MAC000018</th>\n",
              "      <th>MAC000020</th>\n",
              "      <th>MAC000021</th>\n",
              "    </tr>\n",
              "    <tr>\n",
              "      <th>DateTime</th>\n",
              "      <th></th>\n",
              "      <th></th>\n",
              "      <th></th>\n",
              "    </tr>\n",
              "  </thead>\n",
              "  <tbody>\n",
              "    <tr>\n",
              "      <th>2014-02-27 22:00:00</th>\n",
              "      <td>0.376</td>\n",
              "      <td>0.204</td>\n",
              "      <td>0.500</td>\n",
              "    </tr>\n",
              "    <tr>\n",
              "      <th>2014-02-27 22:30:00</th>\n",
              "      <td>0.379</td>\n",
              "      <td>0.213</td>\n",
              "      <td>0.475</td>\n",
              "    </tr>\n",
              "    <tr>\n",
              "      <th>2014-02-27 23:00:00</th>\n",
              "      <td>0.382</td>\n",
              "      <td>0.089</td>\n",
              "      <td>0.414</td>\n",
              "    </tr>\n",
              "    <tr>\n",
              "      <th>2014-02-27 23:30:00</th>\n",
              "      <td>0.383</td>\n",
              "      <td>0.044</td>\n",
              "      <td>0.526</td>\n",
              "    </tr>\n",
              "    <tr>\n",
              "      <th>2014-02-28 00:00:00</th>\n",
              "      <td>0.380</td>\n",
              "      <td>0.060</td>\n",
              "      <td>0.737</td>\n",
              "    </tr>\n",
              "  </tbody>\n",
              "</table>\n",
              "</div>"
            ],
            "text/plain": [
              "LCLid                MAC000018  MAC000020  MAC000021\n",
              "DateTime                                            \n",
              "2014-02-27 22:00:00      0.376      0.204      0.500\n",
              "2014-02-27 22:30:00      0.379      0.213      0.475\n",
              "2014-02-27 23:00:00      0.382      0.089      0.414\n",
              "2014-02-27 23:30:00      0.383      0.044      0.526\n",
              "2014-02-28 00:00:00      0.380      0.060      0.737"
            ]
          },
          "metadata": {
            "tags": []
          },
          "execution_count": 28
        }
      ]
    },
    {
      "cell_type": "code",
      "metadata": {
        "id": "EmchnWQv__sz",
        "colab_type": "code",
        "colab": {
          "base_uri": "https://localhost:8080/",
          "height": 238
        },
        "outputId": "82016045-ac00-49e5-b046-5aa30ddb89b4"
      },
      "source": [
        "cm_df = pd.concat([te_df, df_forecast], axis=1, sort=False)\n",
        "cm_df"
      ],
      "execution_count": 37,
      "outputs": [
        {
          "output_type": "execute_result",
          "data": {
            "text/html": [
              "<div>\n",
              "<style scoped>\n",
              "    .dataframe tbody tr th:only-of-type {\n",
              "        vertical-align: middle;\n",
              "    }\n",
              "\n",
              "    .dataframe tbody tr th {\n",
              "        vertical-align: top;\n",
              "    }\n",
              "\n",
              "    .dataframe thead th {\n",
              "        text-align: right;\n",
              "    }\n",
              "</style>\n",
              "<table border=\"1\" class=\"dataframe\">\n",
              "  <thead>\n",
              "    <tr style=\"text-align: right;\">\n",
              "      <th></th>\n",
              "      <th>MAC000018</th>\n",
              "      <th>MAC000020</th>\n",
              "      <th>MAC000021</th>\n",
              "      <th>MAC000018_2d</th>\n",
              "      <th>MAC000020_2d</th>\n",
              "      <th>MAC000021_2d</th>\n",
              "    </tr>\n",
              "    <tr>\n",
              "      <th>DateTime</th>\n",
              "      <th></th>\n",
              "      <th></th>\n",
              "      <th></th>\n",
              "      <th></th>\n",
              "      <th></th>\n",
              "      <th></th>\n",
              "    </tr>\n",
              "  </thead>\n",
              "  <tbody>\n",
              "    <tr>\n",
              "      <th>2014-02-27 22:00:00</th>\n",
              "      <td>0.376</td>\n",
              "      <td>0.204</td>\n",
              "      <td>0.500</td>\n",
              "      <td>0.348</td>\n",
              "      <td>0.206</td>\n",
              "      <td>0.428</td>\n",
              "    </tr>\n",
              "    <tr>\n",
              "      <th>2014-02-27 22:30:00</th>\n",
              "      <td>0.379</td>\n",
              "      <td>0.213</td>\n",
              "      <td>0.475</td>\n",
              "      <td>0.321</td>\n",
              "      <td>0.176</td>\n",
              "      <td>0.443</td>\n",
              "    </tr>\n",
              "    <tr>\n",
              "      <th>2014-02-27 23:00:00</th>\n",
              "      <td>0.382</td>\n",
              "      <td>0.089</td>\n",
              "      <td>0.414</td>\n",
              "      <td>0.299</td>\n",
              "      <td>0.160</td>\n",
              "      <td>0.452</td>\n",
              "    </tr>\n",
              "    <tr>\n",
              "      <th>2014-02-27 23:30:00</th>\n",
              "      <td>0.383</td>\n",
              "      <td>0.044</td>\n",
              "      <td>0.526</td>\n",
              "      <td>0.282</td>\n",
              "      <td>0.151</td>\n",
              "      <td>0.457</td>\n",
              "    </tr>\n",
              "    <tr>\n",
              "      <th>2014-02-28 00:00:00</th>\n",
              "      <td>0.380</td>\n",
              "      <td>0.060</td>\n",
              "      <td>0.737</td>\n",
              "      <td>0.269</td>\n",
              "      <td>0.145</td>\n",
              "      <td>0.461</td>\n",
              "    </tr>\n",
              "  </tbody>\n",
              "</table>\n",
              "</div>"
            ],
            "text/plain": [
              "                     MAC000018  MAC000020  ...  MAC000020_2d  MAC000021_2d\n",
              "DateTime                                   ...                            \n",
              "2014-02-27 22:00:00      0.376      0.204  ...         0.206         0.428\n",
              "2014-02-27 22:30:00      0.379      0.213  ...         0.176         0.443\n",
              "2014-02-27 23:00:00      0.382      0.089  ...         0.160         0.452\n",
              "2014-02-27 23:30:00      0.383      0.044  ...         0.151         0.457\n",
              "2014-02-28 00:00:00      0.380      0.060  ...         0.145         0.461\n",
              "\n",
              "[5 rows x 6 columns]"
            ]
          },
          "metadata": {
            "tags": []
          },
          "execution_count": 37
        }
      ]
    },
    {
      "cell_type": "code",
      "metadata": {
        "id": "iiKNtfExBYNP",
        "colab_type": "code",
        "outputId": "0206e248-8215-42d0-ee6b-a8d9ae6ee3be",
        "colab": {
          "base_uri": "https://localhost:8080/",
          "height": 601
        }
      },
      "source": [
        "ct = 0\n",
        "fig, axes = plt.subplots(nrows= 2, ncols=2, dpi=150, figsize=(8,4))\n",
        "for i, ax in enumerate(axes.flatten()):\n",
        "  if ct < 3:\n",
        "    df_forecast[new_df.columns[i] + '_2d'].plot(legend=True, ax=ax).autoscale(axis='x',tight=True)\n",
        "    te_df[new_df.columns[i]][-nobs:].plot(legend=True, ax=ax);\n",
        "    ax.set_title(new_df.columns[i] +\" : Forecast vs Actuals\")\n",
        "    ax.xaxis.set_ticks_position('none')\n",
        "    ax.yaxis.set_ticks_position('none')\n",
        "    ax.spines[\"top\"].set_alpha(0)\n",
        "    ax.tick_params(labelsize=6)\n",
        "    ct += 1\n",
        "\n",
        "plt.tight_layout();"
      ],
      "execution_count": 38,
      "outputs": [
        {
          "output_type": "display_data",
          "data": {
            "image/png": "[encoded data removed]",
            "text/plain": [
              "<Figure size 1200x600 with 4 Axes>"
            ]
          },
          "metadata": {
            "tags": []
          }
        }
      ]
    },
    {
      "cell_type": "code",
      "metadata": {
        "id": "6ysM5HzENFLO",
        "colab_type": "code",
        "colab": {
          "base_uri": "https://localhost:8080/",
          "height": 469
        },
        "outputId": "1bdad210-96bf-455f-f689-3c5269593982"
      },
      "source": [
        "from statsmodels.tsa.stattools import acf\n",
        "def forecast_accuracy(forecast, actual):\n",
        "    mape = np.mean(np.abs(forecast - actual)/np.abs(actual))  # MAPE\n",
        "    me = np.mean(forecast - actual)             # ME\n",
        "    mae = np.mean(np.abs(forecast - actual))    # MAE\n",
        "    mpe = np.mean((forecast - actual)/actual)   # MPE\n",
        "    rmse = np.mean((forecast - actual)**2)**.5  # RMSE\n",
        "    corr = np.corrcoef(forecast, actual)[0,1]   # corr\n",
        "    mins = np.amin(np.hstack([forecast[:,None], \n",
        "                              actual[:,None]]), axis=1)\n",
        "    maxs = np.amax(np.hstack([forecast[:,None], \n",
        "                              actual[:,None]]), axis=1)\n",
        "    minmax = 1 - np.mean(mins/maxs)             # minmax\n",
        "    return({'mape':mape, 'me':me, 'mae': mae, \n",
        "            'mpe': mpe, 'rmse':rmse, 'corr':corr, 'minmax':minmax})\n",
        "\n",
        "print('Forecast Accuracy of: MAC000018')\n",
        "accuracy_prod = forecast_accuracy(df_forecast['MAC000018_2d'].values, te_df['MAC000018'])\n",
        "for k, v in accuracy_prod.items():\n",
        "    print(k, ': ', round(v,4))\n",
        "    \n",
        "\n",
        "print('\\nForecast Accuracy of: MAC000020')\n",
        "accuracy_prod = forecast_accuracy(df_forecast['MAC000020_2d'].values, te_df['MAC000020'])\n",
        "for k, v in accuracy_prod.items():\n",
        "    print(k, ': ', round(v,4))\n",
        "\n",
        "print('\\nForecast Accuracy of: MAC000021')\n",
        "accuracy_prod = forecast_accuracy(df_forecast['MAC000021_2d'].values, te_df['MAC000021'])\n",
        "for k, v in accuracy_prod.items():\n",
        "    print(k, ': ', round(v,4))\n"
      ],
      "execution_count": 31,
      "outputs": [
        {
          "output_type": "stream",
          "text": [
            "Forecast Accuracy of: MAC000018\n",
            "mape :  0.1998\n",
            "me :  -0.0761\n",
            "mae :  0.0761\n",
            "mpe :  -0.1998\n",
            "rmse :  0.0818\n",
            "corr :  -0.7786\n",
            "minmax :  0.1998\n",
            "\n",
            "Forecast Accuracy of: MAC000020\n",
            "mape :  0.9634\n",
            "me :  0.0455\n",
            "mae :  0.0601\n",
            "mpe :  0.8949\n",
            "rmse :  0.0707\n",
            "corr :  0.8774\n",
            "minmax :  0.3834\n",
            "\n",
            "Forecast Accuracy of: MAC000021\n",
            "mape :  0.1616\n",
            "me :  -0.0822\n",
            "mae :  0.0973\n",
            "mpe :  -0.1251\n",
            "rmse :  0.133\n",
            "corr :  0.4838\n",
            "minmax :  0.16\n"
          ],
          "name": "stdout"
        }
      ]
    },
    {
      "cell_type": "code",
      "metadata": {
        "id": "xYUwWEh-NFft",
        "colab_type": "code",
        "colab": {}
      },
      "source": [
        ""
      ],
      "execution_count": 0,
      "outputs": []
    },
    {
      "cell_type": "code",
      "metadata": {
        "id": "zgVI9Yi4NFeH",
        "colab_type": "code",
        "colab": {}
      },
      "source": [
        ""
      ],
      "execution_count": 0,
      "outputs": []
    },
    {
      "cell_type": "code",
      "metadata": {
        "id": "xnboXDVtNFcR",
        "colab_type": "code",
        "colab": {}
      },
      "source": [
        ""
      ],
      "execution_count": 0,
      "outputs": []
    }
  ]
}